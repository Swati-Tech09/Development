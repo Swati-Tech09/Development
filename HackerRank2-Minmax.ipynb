{
 "cells": [
  {
   "cell_type": "code",
   "execution_count": 19,
   "metadata": {},
   "outputs": [
    {
     "name": "stdout",
     "output_type": "stream",
     "text": [
      " 12 1 23 2 4\n",
      "[1, 2, 4, 12, 23]\n",
      "19\n",
      "41\n"
     ]
    }
   ],
   "source": [
    "#!/bin/python3\n",
    "\n",
    "import math\n",
    "import os\n",
    "import random\n",
    "import re\n",
    "import sys\n",
    "\n",
    "#\n",
    "# Complete the 'miniMaxSum' function below.\n",
    "#\n",
    "# The function accepts INTEGER_ARRAY arr as parameter.\n",
    "#\n",
    "\n",
    "def miniMaxSum(arr):\n",
    "    # Write your code here\n",
    "    arr.sort()\n",
    "        \n",
    "    min_num=sum(arr)-arr[-1]\n",
    "    max_num=sum(arr)-arr[0]\n",
    "    print(min_num, max_num) \n",
    "            \n",
    "if __name__ == '__main__':\n",
    "\n",
    "    arr = list(map(int, input().rstrip().split()))\n",
    "    miniMaxSum(arr)\n",
    "    "
   ]
  }
 ],
 "metadata": {
  "kernelspec": {
   "display_name": "Python 3",
   "language": "python",
   "name": "python3"
  },
  "language_info": {
   "codemirror_mode": {
    "name": "ipython",
    "version": 3
   },
   "file_extension": ".py",
   "mimetype": "text/x-python",
   "name": "python",
   "nbconvert_exporter": "python",
   "pygments_lexer": "ipython3",
   "version": "3.8.5"
  }
 },
 "nbformat": 4,
 "nbformat_minor": 4
}
