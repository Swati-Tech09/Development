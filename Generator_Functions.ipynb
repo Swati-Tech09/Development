{
 "cells": [
  {
   "cell_type": "code",
   "execution_count": null,
   "metadata": {},
   "outputs": [],
   "source": [
    "def square_of_numbers(n):\n",
    "    for i in n:\n",
    "        yield(i*i)\n",
    "        \n",
    "nums=square_of_numbers([5,25,30,50])\n",
    "print(next(nums))\n",
    "print(next(nums))\n",
    "print(next(nums))\n",
    "print(next(nums))\n",
    "print(next(nums))"
   ]
  },
  {
   "cell_type": "code",
   "execution_count": null,
   "metadata": {},
   "outputs": [],
   "source": [
    "import memory_profiler as mem_profile\n",
    "\n",
    "\n",
    "brand_name=[\"Apple\",\"Sony\",\"Samsung\"]\n",
    "price=[\"90K\",\"40K\",\"30K\"]\n",
    "\n",
    "def product_list(n):\n",
    "    output=[]\n",
    "    for i in range(n):\n",
    "        product={\"id\":i,\n",
    "                \"Brand_name\":brand_name[0],\n",
    "                \"Price\":price[0]}\n",
    "        output.append(product)\n",
    "    return output\n",
    "print(\"Using Normal function\")\n",
    "print('Memory (Before): ' + str(mem_profile.memory_usage()) + 'MB' )\n",
    "list_of_order=product_list(10000000)\n",
    "print('Memory (After): ' + str(mem_profile.memory_usage()) + 'MB' )"
   ]
  },
  {
   "cell_type": "code",
   "execution_count": null,
   "metadata": {},
   "outputs": [],
   "source": []
  },
  {
   "cell_type": "markdown",
   "metadata": {},
   "source": [
    "import memory_profiler as mem_profile\n",
    "print(\"Using generators\")\n",
    "brand_name=[\"Apple\",\"Sony\",\"Samsung\"]\n",
    "price=[\"90K\",\"40K\",\"30K\"]\n",
    "def product_list(n):\n",
    "    for i in xrange(n):\n",
    "        product={\n",
    "                  \"id\":i,\n",
    "                  \"Brand_name\":brand_name[0],\n",
    "                  \"Price\":price[0]\n",
    "                }\n",
    "        yield product\n",
    "\n",
    "        \n",
    "print('Memory (Before): ' + str(mem_profile.memory_usage()) + 'MB' )  \n",
    "list_of_order=product_list(10000000)\n",
    "print('Memory (After): ' + str(mem_profile.memory_usage()) + 'MB' )"
   ]
  },
  {
   "cell_type": "code",
   "execution_count": null,
   "metadata": {},
   "outputs": [],
   "source": []
  },
  {
   "cell_type": "code",
   "execution_count": null,
   "metadata": {},
   "outputs": [],
   "source": []
  },
  {
   "cell_type": "code",
   "execution_count": null,
   "metadata": {},
   "outputs": [],
   "source": []
  },
  {
   "cell_type": "code",
   "execution_count": null,
   "metadata": {},
   "outputs": [],
   "source": []
  },
  {
   "cell_type": "code",
   "execution_count": null,
   "metadata": {},
   "outputs": [],
   "source": []
  },
  {
   "cell_type": "code",
   "execution_count": null,
   "metadata": {},
   "outputs": [],
   "source": []
  },
  {
   "cell_type": "code",
   "execution_count": null,
   "metadata": {},
   "outputs": [],
   "source": []
  },
  {
   "cell_type": "code",
   "execution_count": null,
   "metadata": {},
   "outputs": [],
   "source": []
  },
  {
   "cell_type": "code",
   "execution_count": null,
   "metadata": {},
   "outputs": [],
   "source": [
    "pip install time"
   ]
  },
  {
   "cell_type": "code",
   "execution_count": null,
   "metadata": {},
   "outputs": [],
   "source": []
  },
  {
   "cell_type": "code",
   "execution_count": null,
   "metadata": {},
   "outputs": [],
   "source": []
  }
 ],
 "metadata": {
  "kernelspec": {
   "display_name": "Python 3",
   "language": "python",
   "name": "python3"
  },
  "language_info": {
   "codemirror_mode": {
    "name": "ipython",
    "version": 3
   },
   "file_extension": ".py",
   "mimetype": "text/x-python",
   "name": "python",
   "nbconvert_exporter": "python",
   "pygments_lexer": "ipython3",
   "version": "3.8.5"
  }
 },
 "nbformat": 4,
 "nbformat_minor": 4
}
