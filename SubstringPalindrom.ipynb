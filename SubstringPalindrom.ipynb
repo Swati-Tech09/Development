{
 "cells": [
  {
   "cell_type": "code",
   "execution_count": 4,
   "metadata": {},
   "outputs": [
    {
     "name": "stdout",
     "output_type": "stream",
     "text": [
      "dbbc\n",
      "4\n",
      "cbb\n",
      "bbc\n",
      "bbd\n",
      "dbb\n",
      "cb\n",
      "bc\n",
      "bb\n",
      "bb\n"
     ]
    },
    {
     "data": {
      "text/plain": [
       "'bb'"
      ]
     },
     "execution_count": 4,
     "metadata": {},
     "output_type": "execute_result"
    }
   ],
   "source": [
    "class Solution(object):\n",
    "    def longestPalindrome(self, s):\n",
    "        \"\"\"\n",
    "        :type s: str\n",
    "        :rtype: str\n",
    "        \"\"\"\n",
    "        ans = s\n",
    "        rev = ans[::-1]\n",
    "        print(rev)\n",
    "        num = len(ans)\n",
    "        print(num)\n",
    "        if ans==rev:\n",
    "            return ans\n",
    "        else:\n",
    "            while num:\n",
    "                num = num-1\n",
    "                for i in range(len(s)-num+1):\n",
    "                    ans = s[i:i+num]\n",
    "                    rev = ans[::-1]\n",
    "                    print(ans)\n",
    "                    print(rev)\n",
    "                    if ans==rev:\n",
    "                        return ans\n",
    "k=Solution()\n",
    "k.longestPalindrome(\"cbbd\")"
   ]
  },
  {
   "cell_type": "code",
   "execution_count": null,
   "metadata": {},
   "outputs": [],
   "source": []
  }
 ],
 "metadata": {
  "kernelspec": {
   "display_name": "Python 3",
   "language": "python",
   "name": "python3"
  },
  "language_info": {
   "codemirror_mode": {
    "name": "ipython",
    "version": 3
   },
   "file_extension": ".py",
   "mimetype": "text/x-python",
   "name": "python",
   "nbconvert_exporter": "python",
   "pygments_lexer": "ipython3",
   "version": "3.8.5"
  }
 },
 "nbformat": 4,
 "nbformat_minor": 4
}
