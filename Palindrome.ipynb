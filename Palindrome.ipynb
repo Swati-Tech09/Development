{
 "cells": [
  {
   "cell_type": "code",
   "execution_count": 5,
   "metadata": {},
   "outputs": [
    {
     "data": {
      "text/plain": [
       "False"
      ]
     },
     "execution_count": 5,
     "metadata": {},
     "output_type": "execute_result"
    }
   ],
   "source": [
    "class Solution:\n",
    "    def isPalindrome(self, x):\n",
    "        if (x<0 or (x%10==0 & x!=0)):\n",
    "            return false\n",
    "        revnum=0\n",
    "        while (x>revnum):\n",
    "            revnum=revnum*10+x%10\n",
    "            x/=10\n",
    "        return x==revnum or x==revnum/10\n",
    "    \n",
    "a=Solution()\n",
    "a.isPalindrome(291)"
   ]
  },
  {
   "cell_type": "code",
   "execution_count": 13,
   "metadata": {},
   "outputs": [
    {
     "name": "stdout",
     "output_type": "stream",
     "text": [
      "0\n",
      "3\n",
      "12.3\n",
      "3\n",
      "5.300000000000001\n",
      "1.23\n"
     ]
    },
    {
     "data": {
      "text/plain": [
       "5.300000000000001"
      ]
     },
     "execution_count": 13,
     "metadata": {},
     "output_type": "execute_result"
    }
   ],
   "source": [
    "def reverse(x):\n",
    "        a=0\n",
    "        while(x>a):\n",
    "            print(a)\n",
    "            a=a+x%10\n",
    "            print(a)\n",
    "            x/=10\n",
    "            print(x)\n",
    "        return a\n",
    "    \n",
    "reverse(123)"
   ]
  }
 ],
 "metadata": {
  "kernelspec": {
   "display_name": "Python 3",
   "language": "python",
   "name": "python3"
  },
  "language_info": {
   "codemirror_mode": {
    "name": "ipython",
    "version": 3
   },
   "file_extension": ".py",
   "mimetype": "text/x-python",
   "name": "python",
   "nbconvert_exporter": "python",
   "pygments_lexer": "ipython3",
   "version": "3.8.5"
  }
 },
 "nbformat": 4,
 "nbformat_minor": 4
}
