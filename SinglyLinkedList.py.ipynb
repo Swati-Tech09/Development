{
 "cells": [
  {
   "cell_type": "code",
   "execution_count": 4,
   "metadata": {},
   "outputs": [
    {
     "name": "stdout",
     "output_type": "stream",
     "text": [
      "John\n",
      "Alex\n",
      "Greg\n"
     ]
    }
   ],
   "source": [
    "class Node:\n",
    "    def __init__(self,data):\n",
    "        self.head=data\n",
    "        self.next=None\n",
    "        \n",
    "class Linkedlist:\n",
    "    def __init__(self):\n",
    "        self.head=None\n",
    "        \n",
    "    def insert(self, newNode):\n",
    "        if self.head is None:\n",
    "            self.head=newNode\n",
    "        else:\n",
    "            lastNode=self.head\n",
    "            while True:\n",
    "                if lastNode.next is None:\n",
    "                    break\n",
    "                lastNode=lastNode.next\n",
    "            lastNode.next=newNode\n",
    "            \n",
    "    def printList(self):\n",
    "        currentNode=self.head\n",
    "        while True:\n",
    "            if currentNode is None:\n",
    "                break\n",
    "            print(currentNode.head)\n",
    "            currentNode=currentNode.next\n",
    "            \n",
    "\n",
    "firstNode = Node(\"John\")\n",
    "linkedlist = Linkedlist()\n",
    "linkedlist.insert(firstNode)\n",
    "SecondNode = Node(\"Alex\")\n",
    "linkedlist.insert(SecondNode)\n",
    "Thirdnode = Node(\"Greg\")\n",
    "linkedlist.insert(Thirdnode)\n",
    "linkedlist.printList()"
   ]
  },
  {
   "cell_type": "code",
   "execution_count": null,
   "metadata": {},
   "outputs": [],
   "source": []
  }
 ],
 "metadata": {
  "kernelspec": {
   "display_name": "Python 3",
   "language": "python",
   "name": "python3"
  },
  "language_info": {
   "codemirror_mode": {
    "name": "ipython",
    "version": 3
   },
   "file_extension": ".py",
   "mimetype": "text/x-python",
   "name": "python",
   "nbconvert_exporter": "python",
   "pygments_lexer": "ipython3",
   "version": "3.8.5"
  }
 },
 "nbformat": 4,
 "nbformat_minor": 4
}
